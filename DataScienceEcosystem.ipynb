{
 "cells": [
  {
   "cell_type": "markdown",
   "id": "c9efd6b3",
   "metadata": {},
   "source": [
    "<h1> Data Science Tools and Ecosystem"
   ]
  },
  {
   "cell_type": "markdown",
   "id": "5ac93ec2",
   "metadata": {},
   "source": [
    "In this notebook, Data Science Tools and Ecosystem are summarized.\n"
   ]
  },
  {
   "cell_type": "markdown",
   "id": "caa42e46",
   "metadata": {},
   "source": [
    "\n",
    "**Objectives:**\n",
    "- Review popular Data Science languages.\n",
    "- Learn common Data Science tools and environments.\n",
    "- Understand the role of Jupyter Notebook, RStudio, and Anaconda in Data Science.\n",
    "- Run through basic arithmetic expressions in Python.\n",
    "- Practice Data Visualization.\n",
    "\n"
   ]
  },
  {
   "cell_type": "markdown",
   "id": "8ba06e9c",
   "metadata": {},
   "source": [
    "Some of the popular languages that Data Scientists use are:"
   ]
  },
  {
   "cell_type": "markdown",
   "id": "45bb91c5",
   "metadata": {},
   "source": [
    "1.Python\\\n",
    "2.Java\\\n",
    "3.R"
   ]
  },
  {
   "cell_type": "markdown",
   "id": "61fbd048",
   "metadata": {},
   "source": [
    "| Data Science Tools |\n",
    "| ----------------- |\n",
    "| Jupyter Notebook  |\n",
    "| RStudio           |\n",
    "| Anaconda |"
   ]
  },
  {
   "cell_type": "markdown",
   "id": "2a7ef363",
   "metadata": {},
   "source": [
    "<h3>Below are a few examples of evaluating arithmetic expressions in Python"
   ]
  },
  {
   "cell_type": "code",
   "execution_count": 15,
   "id": "3a3f34e9",
   "metadata": {},
   "outputs": [
    {
     "data": {
      "text/plain": [
       "17"
      ]
     },
     "execution_count": 15,
     "metadata": {},
     "output_type": "execute_result"
    }
   ],
   "source": [
    "#This a simple arithmetic expression to mutiply then add integers\n",
    "(3*4)+5"
   ]
  },
  {
   "cell_type": "code",
   "execution_count": 20,
   "id": "e8487648",
   "metadata": {},
   "outputs": [
    {
     "name": "stdout",
     "output_type": "stream",
     "text": [
      "There are 3.3333333333333335 hours in 200 minutes\n"
     ]
    }
   ],
   "source": [
    "Time=200\n",
    "hours= Time/60\n",
    "print('There are',hours,'hours in 200 minutes')"
   ]
  },
  {
   "cell_type": "markdown",
   "id": "0f97da51",
   "metadata": {},
   "source": [
    "<h2>Author\n",
    "    Hasting Sykes"
   ]
  },
  {
   "cell_type": "code",
   "execution_count": null,
   "id": "59704dda",
   "metadata": {},
   "outputs": [],
   "source": []
  }
 ],
 "metadata": {
  "kernelspec": {
   "display_name": "Python 3 (ipykernel)",
   "language": "python",
   "name": "python3"
  },
  "language_info": {
   "codemirror_mode": {
    "name": "ipython",
    "version": 3
   },
   "file_extension": ".py",
   "mimetype": "text/x-python",
   "name": "python",
   "nbconvert_exporter": "python",
   "pygments_lexer": "ipython3",
   "version": "3.10.11"
  }
 },
 "nbformat": 4,
 "nbformat_minor": 5
}
